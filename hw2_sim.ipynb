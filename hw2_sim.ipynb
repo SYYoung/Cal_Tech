{
 "cells": [
  {
   "cell_type": "code",
   "execution_count": 2,
   "metadata": {},
   "outputs": [],
   "source": [
    "from random import randint\n",
    "#import seaborn as sns\n",
    "import numpy as np"
   ]
  },
  {
   "cell_type": "code",
   "execution_count": 3,
   "metadata": {
    "collapsed": true
   },
   "outputs": [],
   "source": [
    "N = 100000\n",
    "v_first = np.zeros(N)\n",
    "v_min = np.zeros(N)\n",
    "v_rand = np.zeros(N)"
   ]
  },
  {
   "cell_type": "code",
   "execution_count": 5,
   "metadata": {},
   "outputs": [],
   "source": [
    "for i in range(N):\n",
    "    n,p = 10, 0.5\n",
    "    flips = np.random.binomial(n,p,1000)\n",
    "    \n",
    "    first_coin = 0\n",
    "    min_coin = np.argmin(flips)\n",
    "    rand_coin = np.random.randint(0,1000)\n",
    "    \n",
    "    v_first[i] = flips[first_coin]\n",
    "    v_min[i] = flips[min_coin]\n",
    "    v_rand[i] = flips[rand_coin]"
   ]
  },
  {
   "cell_type": "code",
   "execution_count": 7,
   "metadata": {},
   "outputs": [
    {
     "name": "stdout",
     "output_type": "stream",
     "text": [
      "0.37587\n"
     ]
    }
   ],
   "source": [
    "print (np.average(v_min))"
   ]
  },
  {
   "cell_type": "code",
   "execution_count": null,
   "metadata": {
    "collapsed": true
   },
   "outputs": [],
   "source": []
  }
 ],
 "metadata": {
  "kernelspec": {
   "display_name": "Python 3",
   "language": "python",
   "name": "python3"
  },
  "language_info": {
   "codemirror_mode": {
    "name": "ipython",
    "version": 3
   },
   "file_extension": ".py",
   "mimetype": "text/x-python",
   "name": "python",
   "nbconvert_exporter": "python",
   "pygments_lexer": "ipython3",
   "version": "3.5.4"
  }
 },
 "nbformat": 4,
 "nbformat_minor": 2
}

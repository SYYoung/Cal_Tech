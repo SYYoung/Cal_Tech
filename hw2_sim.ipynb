{
 "cells": [
  {
   "cell_type": "code",
   "execution_count": 1,
   "metadata": {},
   "outputs": [],
   "source": [
    "from random import randint\n",
    "#import seaborn as sns\n",
    "import numpy as np"
   ]
  },
  {
   "cell_type": "code",
   "execution_count": 2,
   "metadata": {},
   "outputs": [],
   "source": [
    "N = 100000\n",
    "v_first = np.zeros(N)\n",
    "v_min = np.zeros(N)\n",
    "v_rand = np.zeros(N)"
   ]
  },
  {
   "cell_type": "code",
   "execution_count": 3,
   "metadata": {},
   "outputs": [],
   "source": [
    "for i in range(N):\n",
    "    n,p = 10, 0.5\n",
    "    flips = np.random.binomial(n,p,1000)\n",
    "    \n",
    "    first_coin = 0\n",
    "    min_coin = np.argmin(flips)\n",
    "    rand_coin = np.random.randint(0,1000)\n",
    "    \n",
    "    v_first[i] = flips[first_coin]\n",
    "    v_min[i] = flips[min_coin]\n",
    "    v_rand[i] = flips[rand_coin]"
   ]
  },
  {
   "cell_type": "code",
   "execution_count": 4,
   "metadata": {},
   "outputs": [
    {
     "name": "stdout",
     "output_type": "stream",
     "text": [
      "0.3765\n"
     ]
    }
   ],
   "source": [
    "print (np.average(v_min))"
   ]
  },
  {
   "cell_type": "code",
   "execution_count": 27,
   "metadata": {},
   "outputs": [
    {
     "name": "stdout",
     "output_type": "stream",
     "text": [
      "[ 0.30876802 -0.62508495] [0 0]\n",
      "-2.024448493859853 0.0\n"
     ]
    }
   ],
   "source": [
    "# HW 5,6,7\n",
    "# generate 2 points\n",
    "point1 = np.random.uniform(low=-1,high=1,size=2)\n",
    "point2 = np.random.randint(low=-1, high=1, size=2)\n",
    "print(point1, point2)\n",
    "# create a line\n",
    "target_slope = (point2[1]-point1[1])/(point2[0]-point1[0])\n",
    "target_yint = point2[1] - target_slope * point2[0]\n",
    "print(target_slope, target_yint)"
   ]
  },
  {
   "cell_type": "code",
   "execution_count": 36,
   "metadata": {},
   "outputs": [],
   "source": [
    "%matplotlib inline\n",
    "import matplotlib.pyplot as plt"
   ]
  },
  {
   "cell_type": "code",
   "execution_count": 48,
   "metadata": {},
   "outputs": [],
   "source": [
    "# now we generate N points\n",
    "N = 100\n",
    "def genData():\n",
    "    # generate X\n",
    "    xcoord = np.random.uniform(low=-1,high=1,size=N*2)\n",
    "    X = np.array([[ xcoord]])\n",
    "    X = X.reshape((100,2))\n",
    "    print(X.shape)\n",
    "    print(X[0:5])\n",
    "\n",
    "    # determine y with the target function\n",
    "    y = (X[:,1] > (X[:,0] * target_slope + target_yint)) * 1\n",
    "    y[y==0] = -1\n",
    "    print(y[0:20])\n",
    "    return (X, y)\n",
    "\n",
    "def plotData(X):\n",
    "    linex = [point1[0], point2[0]]\n",
    "    liney = [point1[1], point2[1]]\n",
    "    print(linex, liney)\n",
    "    plt.scatter(X[:,0], X[:,1])\n",
    "    plt.plot(linex, liney)\n"
   ]
  },
  {
   "cell_type": "code",
   "execution_count": 53,
   "metadata": {},
   "outputs": [],
   "source": [
    "# calculate w\n",
    "def calw(X,y):\n",
    "    tmp = np.linalg.inv(X.T @ X)\n",
    "    tmp = tmp @ X.T\n",
    "    w = tmp @ y\n",
    "    return w\n",
    "\n",
    "def cal_label(w, X):\n",
    "    pred = X @ w"
   ]
  },
  {
   "cell_type": "code",
   "execution_count": 54,
   "metadata": {},
   "outputs": [
    {
     "name": "stdout",
     "output_type": "stream",
     "text": [
      "(100, 2)\n",
      "[[-0.70460708  0.11090455]\n",
      " [ 0.66390083 -0.55968415]\n",
      " [-0.18475531  0.15163946]\n",
      " [ 0.81661968 -0.85187579]\n",
      " [-0.82944714  0.9188364 ]]\n",
      "[-1  1 -1  1 -1  1  1 -1 -1 -1 -1  1 -1 -1  1 -1  1  1 -1  1]\n",
      "[0.3087680164755813, 0] [-0.6250849459060848, 0]\n",
      "[1.39759641 0.56976751]\n"
     ]
    },
    {
     "data": {
      "image/png": "[encoded data removed]",
      "text/plain": [
       "<matplotlib.figure.Figure at 0x11dcda7b8>"
      ]
     },
     "metadata": {},
     "output_type": "display_data"
    }
   ],
   "source": [
    "data, label = genData()\n",
    "plotData(data)\n",
    "para = calw(data, label)\n",
    "print(para)"
   ]
  },
  {
   "cell_type": "code",
   "execution_count": null,
   "metadata": {},
   "outputs": [],
   "source": []
  }
 ],
 "metadata": {
  "kernelspec": {
   "display_name": "Python 3",
   "language": "python",
   "name": "python3"
  },
  "language_info": {
   "codemirror_mode": {
    "name": "ipython",
    "version": 3
   },
   "file_extension": ".py",
   "mimetype": "text/x-python",
   "name": "python",
   "nbconvert_exporter": "python",
   "pygments_lexer": "ipython3",
   "version": "3.5.4"
  }
 },
 "nbformat": 4,
 "nbformat_minor": 2
}
